{
 "cells": [
  {
   "cell_type": "code",
   "execution_count": 1,
   "metadata": {},
   "outputs": [],
   "source": [
    "from mxnet import gluon\n",
    "\n",
    "net = gluon.nn.Sequential()\n",
    "with net.name_scope():\n",
    "    net.add(gluon.nn.Conv2D(channels=20,kernel_size=5,activation='relu'))\n",
    "    net.add(gluon.nn.MaxPool2D(pool_size=2,strides=2))\n",
    "    net.add(gluon.nn.Conv2D(channels=50,kernel_size=3,activation='relu'))\n",
    "    net.add(gluon.nn.MaxPool2D(pool_size=2,strides=2))\n",
    "    net.add(gluon.nn.Flatten())\n",
    "    net.add(gluon.nn.Dense(128,activation='relu'))\n",
    "    net.add(gluon.nn.Dense(10))"
   ]
  },
  {
   "cell_type": "code",
   "execution_count": 2,
   "metadata": {},
   "outputs": [
    {
     "output_type": "stream",
     "name": "stdout",
     "text": "initialize weight on gpu(0)\n"
    }
   ],
   "source": [
    "import sys\n",
    "sys.path.append('..')\n",
    "import utils\n",
    "\n",
    "ctx = utils.try_gpu()\n",
    "net.initialize(ctx=ctx)\n",
    "\n",
    "print('initialize weight on',ctx)"
   ]
  },
  {
   "cell_type": "code",
   "execution_count": 3,
   "metadata": {},
   "outputs": [],
   "source": [
    "from utils import load_data_fashion_mnist\n",
    "\n",
    "batch_size = 256\n",
    "train_data,test_data = load_data_fashion_mnist(batch_size)"
   ]
  },
  {
   "cell_type": "code",
   "execution_count": 8,
   "metadata": {},
   "outputs": [
    {
     "output_type": "stream",
     "name": "stdout",
     "text": "Epoch 0,Loss: 0.922571,Train acc: 0.648016,Test acc: 0.020847\nEpoch 1,Loss: 0.444093,Train acc: 0.832142,Test acc: 0.021550\nEpoch 2,Loss: 0.368154,Train acc: 0.862240,Test acc: 0.021847\nEpoch 3,Loss: 0.329126,Train acc: 0.876374,Test acc: 0.022113\nEpoch 4,Loss: 0.303699,Train acc: 0.886259,Test acc: 0.022225\n"
    }
   ],
   "source": [
    "from mxnet import autograd as autograd\n",
    "from utils import sgd,accuracy,evaluate_accuracy\n",
    "from mxnet import gluon\n",
    "from mxnet import nd\n",
    "\n",
    "softmax_cross_entropy = gluon.loss.SoftmaxCrossEntropyLoss()\n",
    "trainer = gluon.Trainer(net.collect_params(),'sgd',{'learning_rate':0.5})\n",
    "\n",
    "for epoch in range(5):\n",
    "    trian_loss = 0.\n",
    "    train_acc = 0.\n",
    "    for data,label in train_data:\n",
    "        label = label.as_in_context(ctx)\n",
    "        with autograd.record():\n",
    "            output = net(data.as_in_context(ctx))\n",
    "            loss = softmax_cross_entropy(output,label)\n",
    "        loss.backward()\n",
    "        trainer.step(batch_size)\n",
    "\n",
    "        trian_loss += nd.mean(loss).asscalar()\n",
    "        train_acc += accuracy(output.astype('float32'),label.astype('float32'))\n",
    "    test_acc = evaluate_accuracy(test_data,net,ctx)\n",
    "    print(\"Epoch %d,Loss: %f,Train acc: %f,Test acc: %f\"%(epoch,trian_loss/len(train_data),train_acc/len(train_data),\n",
    "    test_acc))"
   ]
  },
  {
   "cell_type": "code",
   "execution_count": null,
   "metadata": {},
   "outputs": [],
   "source": []
  }
 ],
 "metadata": {
  "language_info": {
   "codemirror_mode": {
    "name": "ipython",
    "version": 3
   },
   "file_extension": ".py",
   "mimetype": "text/x-python",
   "name": "python",
   "nbconvert_exporter": "python",
   "pygments_lexer": "ipython3",
   "version": "3.7.7-final"
  },
  "orig_nbformat": 2,
  "kernelspec": {
   "name": "python37764bitmxnetconda3624c9184de641e387c1120171b4e41e",
   "display_name": "Python 3.7.7 64-bit ('mxnet': conda)"
  }
 },
 "nbformat": 4,
 "nbformat_minor": 2
}