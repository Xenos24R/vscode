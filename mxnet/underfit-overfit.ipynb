{
 "cells": [
  {
   "cell_type": "code",
   "execution_count": null,
   "metadata": {},
   "outputs": [],
   "source": [
    "from mxnet import ndarray as nd\n",
    "from mxnet import gluon\n",
    "from mxnet import autograd\n",
    "\n",
    "num_train = 100\n",
    "num_test = 100\n",
    "true_W = [1.2,-3.4,5.6]\n",
    "true_b = 5.0"
   ]
  },
  {
   "cell_type": "code",
   "execution_count": null,
   "metadata": {},
   "outputs": [],
   "source": [
    "x = nd.random_normal(shape=(num_train+num_test,1))\n",
    "X = nd.concat(x,nd.power(x,2),nd.power(x,3))\n",
    "y = true_W[0]*X[:,0] + true_W[1]*X[:,1] + true_W[2]*X[:,2] + true_b\n",
    "y += .1 * nd.random_normal(shape=y.shape)\n",
    "y_train,y_test = y[:num_train],y[num_train:]\n",
    "\n",
    "('x:',x[:5],'X:',X[:5],'y:',y[:5])"
   ]
  },
  {
   "cell_type": "code",
   "execution_count": null,
   "metadata": {},
   "outputs": [],
   "source": [
    "%matplotlib inline\n",
    "import matplotlib as mpl\n",
    "mpl.rcParams['figure.dpi'] = 120\n",
    "import matplotlib.pyplot as plt\n",
    "from utils import square_loss\n",
    "\n",
    "def test(net,X,y):\n",
    "    return square_loss(net(X),y).mean().asscalar()\n",
    "\n",
    "def train(X_train,X_test,y_train,y_test):\n",
    "    #线性回归模型\n",
    "    net = gluon.nn.Sequential()\n",
    "    with net.name_scope():\n",
    "        net.add(gluon.nn.Dense(1))\n",
    "    net.initialize()\n",
    "    learning_rate = 0.01\n",
    "    epochs = 100\n",
    "    #batch_size = min(1,y_train.shape[0])\n",
    "    batch_size = 2\n",
    "    dataset_train = gluon.data.ArrayDataset(X_train,y_train)\n",
    "    data_iter_train = gluon.data.DataLoader(dataset_train,batch_size,shuffle=True)\n",
    "    #默认SGD和均方误差\n",
    "    trainer = gluon.Trainer(net.collect_params(),'sgd',{'learning_rate':learning_rate})\n",
    "    square_loss = gluon.loss.L2Loss()\n",
    "    #保存训练和测试损失\n",
    "    train_loss = []\n",
    "    test_loss = []\n",
    "    for e in range(epochs):\n",
    "        for data,label in data_iter_train:\n",
    "            with autograd.record():\n",
    "                output = net(data)\n",
    "                loss = square_loss(output,label)\n",
    "            loss.backward()\n",
    "            trainer.step(batch_size)\n",
    "        train_loss.append(square_loss(net(X_train),y_train).mean().asscalar())\n",
    "        test_loss.append(square_loss(net(X_test),y_test).mean().asscalar())\n",
    "    #打印结果\n",
    "    plt.plot(train_loss)\n",
    "    plt.plot(test_loss)\n",
    "    plt.legend(['train','test'])\n",
    "    plt.show()\n",
    "    return ('learned weight',net[0].weight.data(),'learned bias',net[0].bias.data())"
   ]
  },
  {
   "cell_type": "code",
   "execution_count": null,
   "metadata": {},
   "outputs": [],
   "source": [
    "train(X[:num_train,:],X[num_train:,:],y[:num_train],y[num_train:])"
   ]
  },
  {
   "cell_type": "code",
   "execution_count": null,
   "metadata": {},
   "outputs": [],
   "source": [
    "train(x[:num_train,:],x[num_train:,:],y[:num_train],y[num_train:])"
   ]
  },
  {
   "cell_type": "code",
   "execution_count": null,
   "metadata": {},
   "outputs": [],
   "source": [
    "train(X[0:2,:],X[num_train:,:],y[0:2],y[num_train:])"
   ]
  },
  {
   "cell_type": "code",
   "execution_count": null,
   "metadata": {},
   "outputs": [],
   "source": []
  }
 ],
 "metadata": {
  "language_info": {
   "codemirror_mode": {
    "name": "ipython",
    "version": 3
   },
   "file_extension": ".py",
   "mimetype": "text/x-python",
   "name": "python",
   "nbconvert_exporter": "python",
   "pygments_lexer": "ipython3",
   "version": "3.8.1-final"
  },
  "orig_nbformat": 2,
  "kernelspec": {
   "name": "python38164bit909497d13ec443c9ad1939dfb1e78050",
   "display_name": "Python 3.8.1 64-bit"
  }
 },
 "nbformat": 4,
 "nbformat_minor": 2
}