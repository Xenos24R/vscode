{
 "cells": [
  {
   "cell_type": "code",
   "execution_count": null,
   "metadata": {},
   "outputs": [],
   "source": [
    "from mxnet import nd\n",
    "from mxnet.gluon import nn\n",
    "\n",
    "net = nn.Sequential()\n",
    "with net.name_scope():\n",
    "    net.add(nn.Dense(256,activation=\"relu\"))\n",
    "    net.add(nn.Dense(10))\n",
    "\n",
    "print(net)"
   ]
  },
  {
   "cell_type": "code",
   "execution_count": null,
   "metadata": {},
   "outputs": [],
   "source": [
    "class MLP(nn.Block):\n",
    "    def __init__(self,**kwargs):\n",
    "        super(MLP,self).__init__(**kwargs)\n",
    "        with self.name_scope():\n",
    "            self.dense0 = nn.Dense(256)\n",
    "            self.dense1 = nn.Dense(10)\n",
    "\n",
    "    def forward(self,x):\n",
    "        return self.dense1(nd.relu(self.dense0(x)))"
   ]
  },
  {
   "cell_type": "code",
   "execution_count": null,
   "metadata": {},
   "outputs": [],
   "source": [
    "net2 = MLP()\n",
    "print(net2)\n",
    "net2.initialize()\n",
    "x = nd.random.uniform(shape=(4,20))\n",
    "y = net2(x)\n",
    "y"
   ]
  },
  {
   "cell_type": "code",
   "execution_count": null,
   "metadata": {},
   "outputs": [],
   "source": [
    "print('default prefix:',net2.dense0.name)\n",
    "\n",
    "net3 = MLP(prefix='another_mlp')\n",
    "print('customized prefix:',net3.dense0.name)"
   ]
  },
  {
   "cell_type": "code",
   "execution_count": null,
   "metadata": {},
   "outputs": [],
   "source": [
    "class Sequential(nn.Block):\n",
    "    def __init__(self,**kwargs):\n",
    "        super(Sequential,self).__init__(**kwargs)\n",
    "\n",
    "    def add(self,block):\n",
    "        self._children[block.name] = block\n",
    "\n",
    "    def forward(self,x):\n",
    "        for block in self._children.values():\n",
    "            x = block(x)\n",
    "        return x"
   ]
  },
  {
   "cell_type": "code",
   "execution_count": null,
   "metadata": {},
   "outputs": [],
   "source": [
    "net4 = Sequential()\n",
    "with net4.name_scope():\n",
    "    net4.add(nn.Dense(256,activation=\"relu\"))\n",
    "    net4.add(nn.Dense(10))\n",
    "\n",
    "net4.initialize()\n",
    "y = net4(x)\n",
    "print(y)"
   ]
  },
  {
   "cell_type": "code",
   "execution_count": null,
   "metadata": {},
   "outputs": [],
   "source": [
    "class FancyMLP(nn.Block):\n",
    "    def __init__(self,**kwargs):\n",
    "        super(FancyMLP,self).__init__(**kwargs)\n",
    "        with self.name_scope():\n",
    "            self.dense = nn.Dense(256)\n",
    "            self.weight = nd.random_uniform(shape=(256,20))\n",
    "\n",
    "    def forward(self,x):\n",
    "        x = nd.relu(self.dense(x))\n",
    "        print('layer 1',x)\n",
    "        x = nd.relu(nd.dot(x,self.weight)+1)\n",
    "        print('layer 2',x)\n",
    "        x = nd.relu(self.dense(x))\n",
    "        return x"
   ]
  },
  {
   "cell_type": "code",
   "execution_count": null,
   "metadata": {},
   "outputs": [],
   "source": [
    "fancy_mlp = FancyMLP()\n",
    "fancy_mlp.initialize()\n",
    "y = fancy_mlp(x)\n",
    "print(y.shape)"
   ]
  },
  {
   "cell_type": "code",
   "execution_count": null,
   "metadata": {},
   "outputs": [],
   "source": [
    "class RecMLP(nn.Block):\n",
    "    def __init__(self,**kwargs):\n",
    "        super(RecMLP,self).__init__(**kwargs)\n",
    "        self.net = nn.Sequential()\n",
    "        with self.name_scope():\n",
    "            self.net.add(nn.Dense(256,activation=\"relu\"))\n",
    "            self.net.add(nn.Dense(128,activation=\"relu\"))\n",
    "            self.dense = nn.Dense(64)\n",
    "\n",
    "    def forward(self,x):\n",
    "        return nd.relu(self.dense(self.net(x)))\n",
    "\n",
    "rec_mlp = nn.Sequential()\n",
    "rec_mlp.add(RecMLP())\n",
    "rec_mlp.add(nn.Dense(10))\n",
    "print(rec_mlp)"
   ]
  },
  {
   "cell_type": "code",
   "execution_count": null,
   "metadata": {},
   "outputs": [],
   "source": []
  }
 ],
 "metadata": {
  "language_info": {
   "codemirror_mode": {
    "name": "ipython",
    "version": 3
   },
   "file_extension": ".py",
   "mimetype": "text/x-python",
   "name": "python",
   "nbconvert_exporter": "python",
   "pygments_lexer": "ipython3",
   "version": "3.7.7-final"
  },
  "orig_nbformat": 2,
  "kernelspec": {
   "name": "python37764bitmxnetconda3624c9184de641e387c1120171b4e41e",
   "display_name": "Python 3.7.7 64-bit ('mxnet': conda)"
  }
 },
 "nbformat": 4,
 "nbformat_minor": 2
}