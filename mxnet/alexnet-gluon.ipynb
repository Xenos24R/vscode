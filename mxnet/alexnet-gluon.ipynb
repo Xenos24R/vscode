{
 "cells": [
  {
   "cell_type": "code",
   "execution_count": 1,
   "metadata": {},
   "outputs": [],
   "source": [
    "from mxnet.gluon import nn\n",
    "net = nn.Sequential()\n",
    "with net.name_scope():\n",
    "    #第一阶段\n",
    "    net.add(nn.Conv2D(channels=96,kernel_size=11,strides=4,activation='relu'))\n",
    "    net.add(nn.MaxPool2D(pool_size=3,strides=2))\n",
    "    #第二阶段\n",
    "    net.add(nn.Conv2D(channels=256,kernel_size=5,padding=2,activation='relu'))\n",
    "    net.add(nn.MaxPool2D(pool_size=3,strides=2))\n",
    "    #第三阶段\n",
    "    net.add(nn.Conv2D(channels=384,kernel_size=3,padding=1,activation='relu'))\n",
    "    net.add(nn.Conv2D(channels=384,kernel_size=3,padding=1,activation='relu'))\n",
    "    net.add(nn.Conv2D(channels=256,kernel_size=3,padding=1,activation='relu'))\n",
    "    net.add(nn.MaxPool2D(pool_size=3,strides=2))\n",
    "    #第四阶段\n",
    "    net.add(nn.Flatten())\n",
    "    net.add(nn.Dense(4096,activation=\"relu\"))\n",
    "    net.add(nn.Dropout(.5))\n",
    "    #第五阶段\n",
    "    net.add(nn.Dense(4096,activation=\"relu\"))\n",
    "    net.add(nn.Dropout(.5))\n",
    "    #第六阶段\n",
    "    net.add(nn.Dense(10))"
   ]
  },
  {
   "cell_type": "code",
   "execution_count": 2,
   "metadata": {},
   "outputs": [],
   "source": [
    "import sys\n",
    "sys.path.append('..')\n",
    "import utils\n",
    "from mxnet import image\n",
    "\n",
    "batch_size = 64\n",
    "\n",
    "train_data,test_data = utils.load_data_fashion_mnist(batch_size,resize=(224,224))"
   ]
  },
  {
   "cell_type": "code",
   "execution_count": null,
   "metadata": {},
   "outputs": [],
   "source": [
    "from mxnet import autograd\n",
    "from mxnet import gluon\n",
    "from mxnet import nd\n",
    "from mxnet import init\n",
    "ctx = utils.try_gpu()\n",
    "net.initialize(ctx=ctx,init=init.Xavier())\n",
    "\n",
    "softmax_cross_entropy = gluon.loss.SoftmaxCrossEntropyLoss()\n",
    "trainer = gluon.Trainer(net.collect_params(),'sgd',{'learning_rate':0.01})\n",
    "\n",
    "for epoch in range(10):\n",
    "    train_loss = 0.\n",
    "    train_acc = 0.\n",
    "    for data,label in train_data:\n",
    "        label = label.as_in_context(ctx)\n",
    "        with autograd.record():\n",
    "            output = net(data.as_in_context(ctx))\n",
    "            loss = softmax_cross_entropy(output,label)\n",
    "        loss.backward()\n",
    "        trainer.step(batch_size)\n",
    "\n",
    "        train_loss += nd.mean(loss).asscalar()\n",
    "        train_acc += utils.accuracy(output,label)\n",
    "    test_acc = utils.evaluate_accuracy(test_data,net,ctx)\n",
    "    print(\"Epoch %d Loss %f Train acc %f Test acc%f\"%(epoch,train_loss/len(train_data),train_acc/len(train_data),\n",
    "    test_acc))"
   ]
  }
 ],
 "metadata": {
  "language_info": {
   "codemirror_mode": {
    "name": "ipython",
    "version": 3
   },
   "file_extension": ".py",
   "mimetype": "text/x-python",
   "name": "python",
   "nbconvert_exporter": "python",
   "pygments_lexer": "ipython3",
   "version": "3.7.7-final"
  },
  "orig_nbformat": 2,
  "kernelspec": {
   "name": "python37764bitmxnetconda3624c9184de641e387c1120171b4e41e",
   "display_name": "Python 3.7.7 64-bit ('mxnet': conda)"
  }
 },
 "nbformat": 4,
 "nbformat_minor": 2
}