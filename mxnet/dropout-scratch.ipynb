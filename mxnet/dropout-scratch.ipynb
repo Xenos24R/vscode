{
 "cells": [
  {
   "cell_type": "code",
   "execution_count": null,
   "metadata": {},
   "outputs": [],
   "source": [
    "from mxnet.gluon import nn\n",
    "nn.Dense??"
   ]
  },
  {
   "cell_type": "code",
   "execution_count": null,
   "metadata": {},
   "outputs": [],
   "source": [
    "from mxnet import nd\n",
    "\n",
    "def dropout(X,drop_probability):\n",
    "    keep_probability = 1 - drop_probability\n",
    "    assert 0<= keep_probability <= 1\n",
    "    #这种情况下把全部元素丢弃\n",
    "    if keep_probability==0:\n",
    "        return X.zeros_like()\n",
    "\n",
    "    #随机选择一部分该层的输出作为丢弃元素\n",
    "    mask = nd.random.uniform(0,1.0,X.shape,ctx=X.context)<keep_probability\n",
    "    #保证E[dropout(X)] = X\n",
    "    scale = 1/keep_probability\n",
    "    return mask * X * scale"
   ]
  },
  {
   "cell_type": "code",
   "execution_count": null,
   "metadata": {},
   "outputs": [],
   "source": [
    "A = nd.arange(20).reshape((5,4))\n",
    "A\n",
    "dropout(A,0.0)"
   ]
  },
  {
   "cell_type": "code",
   "execution_count": null,
   "metadata": {},
   "outputs": [],
   "source": [
    "dropout(A,0.5)"
   ]
  },
  {
   "cell_type": "code",
   "execution_count": null,
   "metadata": {},
   "outputs": [],
   "source": [
    "dropout(A,1.0)"
   ]
  },
  {
   "cell_type": "code",
   "execution_count": null,
   "metadata": {},
   "outputs": [],
   "source": [
    "import sys\n",
    "sys.path.append('..')\n",
    "import utils\n",
    "batch_size = 256\n",
    "train_data,test_data = utils.load_data_fashion_mnist(batch_size)"
   ]
  },
  {
   "cell_type": "code",
   "execution_count": null,
   "metadata": {},
   "outputs": [],
   "source": [
    "num_inputs = 28*28\n",
    "num_outputs = 10\n",
    "\n",
    "num_hidden1 = 256\n",
    "num_hidden2 = 256\n",
    "weight_scale = .01\n",
    "\n",
    "W1 = nd.random_normal(shape=(num_inputs,num_hidden1),scale=weight_scale)\n",
    "b1 = nd.zeros(num_hidden1)\n",
    "\n",
    "W2 = nd.random_normal(shape=(num_hidden1,num_hidden2),scale=weight_scale)\n",
    "b2 = nd.zeros(num_hidden2)\n",
    "\n",
    "W3 = nd.random_normal(shape=(num_hidden2,num_outputs),scale=weight_scale)\n",
    "b3 = nd.zeros(num_outputs)\n",
    "\n",
    "params = [W1,b1,W2,b2,W3,b3]\n",
    "\n",
    "for param in params:\n",
    "    param.attach_grad()"
   ]
  },
  {
   "cell_type": "code",
   "execution_count": null,
   "metadata": {},
   "outputs": [],
   "source": [
    "drop_prob1 = 0.2\n",
    "drop_prob2 = 0.5\n",
    "\n",
    "def net(X):\n",
    "    X = X.reshape((-1,num_inputs))\n",
    "    #第一层全连接\n",
    "    h1 = nd.relu(nd.dot(X,W1) + b1)\n",
    "    #在第一层全连接后添加丢弃层\n",
    "    h1 = dropout(h1,drop_prob1)\n",
    "    #在第二层全连接\n",
    "    h2 = nd.relu(nd.dot(h1,W2) + b2)\n",
    "    #在第二层全连接后添加丢弃层\n",
    "    h2 = dropout(h2,drop_prob2)\n",
    "    return nd.dot(h2,W3) + b3"
   ]
  },
  {
   "cell_type": "code",
   "execution_count": null,
   "metadata": {
    "tags": []
   },
   "outputs": [],
   "source": [
    "from mxnet import autograd\n",
    "from mxnet import gluon\n",
    "\n",
    "softmax_cross_entropy = gluon.loss.SoftmaxCrossEntropyLoss()\n",
    "\n",
    "learning_rate = .5\n",
    "\n",
    "for epoch in range(5):\n",
    "    train_loss = 0.\n",
    "    train_acc = 0.\n",
    "    for data,label in train_data:\n",
    "        with autograd.record():\n",
    "            output = net(data)\n",
    "            loss = softmax_cross_entropy(output,label)\n",
    "        loss.backward()\n",
    "        utils.sgd(params,learning_rate,batch_size)\n",
    "\n",
    "        train_loss += nd.mean(loss).asscalar()\n",
    "        train_acc += utils.accuracy(output.astype('float32'),label.astype('float32'))\n",
    "\n",
    "    test_acc = utils.evaluate_accuracy(test_data,net)\n",
    "    print(\"Epoch %d Loss %f Train acc %f Test acc%f\"%(epoch,train_loss/len(train_data),train_acc/len(train_data),\n",
    "    test_acc))"
   ]
  },
  {
   "cell_type": "code",
   "execution_count": null,
   "metadata": {},
   "outputs": [],
   "source": []
  }
 ],
 "metadata": {
  "language_info": {
   "codemirror_mode": {
    "name": "ipython",
    "version": 3
   },
   "file_extension": ".py",
   "mimetype": "text/x-python",
   "name": "python",
   "nbconvert_exporter": "python",
   "pygments_lexer": "ipython3",
   "version": "3.7.7-final"
  },
  "orig_nbformat": 2,
  "kernelspec": {
   "name": "python37764bitmxnetconda3624c9184de641e387c1120171b4e41e",
   "display_name": "Python 3.7.7 64-bit ('mxnet': conda)"
  }
 },
 "nbformat": 4,
 "nbformat_minor": 2
}