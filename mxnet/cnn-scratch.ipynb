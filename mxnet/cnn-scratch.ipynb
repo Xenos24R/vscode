{
 "cells": [
  {
   "cell_type": "markdown",
   "metadata": {},
   "source": [
    "卷积层"
   ]
  },
  {
   "cell_type": "code",
   "execution_count": null,
   "metadata": {},
   "outputs": [],
   "source": [
    "from mxnet import nd\n",
    "#输入输出数据格式是batc x channel x height x width，这里的batch和channel都是1\n",
    "#权重格式是 input_filter x output_filter x height x width，这里input_filter和output_filter都是1\n",
    "W = nd.arange(4).reshape((1,1,2,2))\n",
    "b = nd.array([1])\n",
    "data = nd.arange(9).reshape((1,1,3,3))\n",
    "out = nd.Convolution(data,W,b,kernel=W.shape[2:],num_filter=W.shape[1])\n",
    "\n",
    "print('input:',data,'\\n\\nweight:',W,'\\n\\nbias:',b,'\\n\\noutput',out)"
   ]
  },
  {
   "cell_type": "code",
   "execution_count": null,
   "metadata": {},
   "outputs": [],
   "source": [
    "output = nd.Convolution(data,W,b,kernel=W.shape[2:],num_filter=W.shape[1],stride=(2,2),pad=(1,1))\n",
    "print('input:',data,'\\n\\nweight:',W,'\\n\\nbias:',b,'\\n\\noutput',out)"
   ]
  },
  {
   "cell_type": "code",
   "execution_count": null,
   "metadata": {},
   "outputs": [],
   "source": [
    "W = nd.arange(8).reshape((1,2,2,2))\n",
    "data = nd.arange(18).reshape((1,2,3,3))\n",
    "\n",
    "out = nd.Convolution(data,W,b,kernel=W.shape[2:],num_filter=W.shape[0])\n",
    "\n",
    "print('input:',data,'\\n\\nweight:',W,'\\n\\nbias:',b,'\\n\\noutput:',out)"
   ]
  },
  {
   "cell_type": "markdown",
   "metadata": {},
   "source": [
    "池化层"
   ]
  },
  {
   "cell_type": "code",
   "execution_count": null,
   "metadata": {},
   "outputs": [],
   "source": [
    "data = nd.arange(18).reshape((1,2,3,3))\n",
    "max_pool = nd.Pooling(data=data,pool_type=\"max\",kernel=(2,2))\n",
    "avg_pool = nd.Pooling(data=data,pool_type=\"avg\",kernel=(2,2))\n",
    "\n",
    "print('data:',data,'\\n\\nmax pooling:',max_pool,'\\n\\navg pooling:',avg_pool)"
   ]
  },
  {
   "cell_type": "markdown",
   "metadata": {},
   "source": [
    "获取数据"
   ]
  },
  {
   "cell_type": "code",
   "execution_count": null,
   "metadata": {},
   "outputs": [],
   "source": [
    "import sys\n",
    "sys.path.append('..')\n",
    "from utils import load_data_fashion_mnist\n",
    "\n",
    "batch_size = 256\n",
    "train_data,test_data = load_data_fashion_mnist(batch_size)"
   ]
  },
  {
   "cell_type": "code",
   "execution_count": null,
   "metadata": {},
   "outputs": [],
   "source": [
    "import mxnet as mx\n",
    "\n",
    "try:\n",
    "    ctx = mx.gpu()\n",
    "    _ = nd.zeros((1,),ctx=ctx)\n",
    "except:\n",
    "    ctx = mx.cpu()\n",
    "ctx"
   ]
  },
  {
   "cell_type": "code",
   "execution_count": null,
   "metadata": {},
   "outputs": [],
   "source": [
    "weight_scale = .01\n",
    "num_outputs = 10\n",
    "\n",
    "#output channels = 20,kernel = (5,5)\n",
    "W1 = nd.random_normal(shape=(20,1,5,5),scale=weight_scale,ctx=ctx)\n",
    "b1 = nd.zeros(W1.shape[0],ctx=ctx)\n",
    "\n",
    "#output channels = 50,kernel = (3,3)\n",
    "W2 = nd.random_normal(shape=(50,20,3,3),scale=weight_scale,ctx=ctx)\n",
    "b2 = nd.zeros(W2.shape[0],ctx=ctx)\n",
    "\n",
    "#output dim = 128\n",
    "W3 = nd.random_normal(shape=(1250,128),scale=weight_scale,ctx=ctx)\n",
    "b3 = nd.zeros(W3.shape[1],ctx=ctx)\n",
    "\n",
    "#output dim = 10\n",
    "W4 = nd.random_normal(shape=(W3.shape[1],10),scale=weight_scale,ctx=ctx)\n",
    "b4 = nd.zeros(W4.shape[1],ctx=ctx)\n",
    "\n",
    "params = [W1,b1,W2,b2,W3,b3,W4,b4]\n",
    "for param in params:\n",
    "    param.attach_grad()"
   ]
  },
  {
   "cell_type": "code",
   "execution_count": null,
   "metadata": {},
   "outputs": [],
   "source": [
    "def net(X,verbose=False):\n",
    "    X = X.as_in_context(W1.context)\n",
    "    #第一层卷积\n",
    "    h1_conv = nd.Convolution(data=X,weight=W1,bias=b1,kernel=W1.shape[2:],num_filter=W1.shape[0])\n",
    "    h1_activation = nd.relu(h1_conv)\n",
    "    h1 = nd.Pooling(data=h1_activation,pool_type=\"max\",kernel=(2,2),stride=(2,2))\n",
    "    #第二层卷积\n",
    "    h2_conv = nd.Convolution(data=h1,weight=W2,bias=b2,kernel=W2.shape[2:],num_filter=W2.shape[0])\n",
    "    h2_activation = nd.relu(h2_conv)\n",
    "    h2 = nd.Pooling(data=h2_activation,pool_type=\"max\",kernel=(2,2),stride=(2,2))\n",
    "    h2 = nd.flatten(h2)\n",
    "    #第一层全连接\n",
    "    h3_linear = nd.dot(h2,W3) + b3\n",
    "    h3 = nd.relu(h3_linear)\n",
    "    #第二层全连接\n",
    "    h4_linear = nd.dot(h3,W4) + b4\n",
    "    if verbose:\n",
    "        print('1st conv block:',h1.shape)\n",
    "        print('2st conv block:',h2.shape)\n",
    "        print('1st dense:',h3.shape)\n",
    "        print('2st denst:',h4_linear.shape)\n",
    "        print('output:',h4_linear)\n",
    "    return h4_linear"
   ]
  },
  {
   "cell_type": "code",
   "execution_count": null,
   "metadata": {},
   "outputs": [],
   "source": [
    "for data,_ in train_data:\n",
    "    net(data,verbose=True)\n",
    "    break"
   ]
  },
  {
   "cell_type": "markdown",
   "metadata": {},
   "source": [
    "训练"
   ]
  },
  {
   "cell_type": "code",
   "execution_count": null,
   "metadata": {},
   "outputs": [],
   "source": [
    "from mxnet import autograd as autograd\n",
    "from utils import sgd,accuracy,evaluate_accuracy\n",
    "from mxnet import gluon\n",
    "\n",
    "softmax_cross_entropy = gluon.loss.SoftmaxCrossEntropyLoss()\n",
    "\n",
    "learning_rate = .2\n",
    "\n",
    "for epoch in range(5):\n",
    "    trian_loss = 0.\n",
    "    train_acc = 0.\n",
    "    for data,label in train_data:\n",
    "        label = label.as_in_context(ctx)\n",
    "        with autograd.record():\n",
    "            output = net(data)\n",
    "            loss = softmax_cross_entropy(output,label)\n",
    "        loss.backward()\n",
    "        sgd(params,learning_rate,batch_size)\n",
    "\n",
    "        trian_loss += nd.mean(loss).asscalar()\n",
    "        train_acc += accuracy(output.astype('float32'),label.astype('float32'))\n",
    "    test_acc = evaluate_accuracy(test_data,net,ctx)\n",
    "    print(\"Epoch %d,Loss: %f,Train acc: %f,Test acc: %f\"%(epoch,trian_loss/len(train_data),train_acc/len(train_data),test_acc/len(test_data)))"
   ]
  },
  {
   "cell_type": "code",
   "execution_count": null,
   "metadata": {},
   "outputs": [],
   "source": []
  }
 ],
 "metadata": {
  "language_info": {
   "codemirror_mode": {
    "name": "ipython",
    "version": 3
   },
   "file_extension": ".py",
   "mimetype": "text/x-python",
   "name": "python",
   "nbconvert_exporter": "python",
   "pygments_lexer": "ipython3",
   "version": "3.7.7-final"
  },
  "orig_nbformat": 2,
  "kernelspec": {
   "name": "python37764bitmxnetconda3624c9184de641e387c1120171b4e41e",
   "display_name": "Python 3.7.7 64-bit ('mxnet': conda)"
  }
 },
 "nbformat": 4,
 "nbformat_minor": 2
}