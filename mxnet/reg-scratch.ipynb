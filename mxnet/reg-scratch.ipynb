{
 "cells": [
  {
   "cell_type": "code",
   "execution_count": null,
   "metadata": {},
   "outputs": [],
   "source": [
    "from mxnet import ndarray as nd\n",
    "from mxnet import gluon\n",
    "from mxnet import autograd\n",
    "\n",
    "num_train = 20\n",
    "num_test = 100\n",
    "num_inputs = 200"
   ]
  },
  {
   "cell_type": "code",
   "execution_count": null,
   "metadata": {},
   "outputs": [],
   "source": [
    "true_W = nd.ones((num_inputs,1)) * 0.01\n",
    "true_b = 0.05"
   ]
  },
  {
   "cell_type": "code",
   "execution_count": null,
   "metadata": {},
   "outputs": [],
   "source": [
    "X = nd.random_normal(shape=(num_train + num_test,num_inputs))\n",
    "y = nd.dot(X,true_W)\n",
    "y += .01 * nd.random_normal(shape=y.shape)\n",
    "\n",
    "X_train,X_test = X[:num_train,:],X[num_train:,:]\n",
    "y_train,y_test = y[:num_train],y[num_train:]"
   ]
  },
  {
   "cell_type": "code",
   "execution_count": null,
   "metadata": {},
   "outputs": [],
   "source": [
    "import random\n",
    "batch_size = 1\n",
    "def data_iter(num_examples):\n",
    "    idx = list(range(num_examples))\n",
    "    random.shuffle(idx)\n",
    "    for i in range(0,num_examples,batch_size):\n",
    "        j = nd.array(idx[i:min(i+batch_size,num_examples)])\n",
    "        yield X.take(j),y.take(j)"
   ]
  },
  {
   "cell_type": "code",
   "execution_count": null,
   "metadata": {},
   "outputs": [],
   "source": [
    "def get_params():\n",
    "    W = nd.random_normal(shape=(num_inputs,1))*0.1\n",
    "    b = nd.zeros((1,))\n",
    "    for param in (W,b):\n",
    "        param.attach_grad()\n",
    "    return (W,b)"
   ]
  },
  {
   "cell_type": "code",
   "execution_count": null,
   "metadata": {},
   "outputs": [],
   "source": [
    "def net(X,lambd,W,b):\n",
    "    return nd.dot(X,W) + b + lambd * ((W**2).sum() + b**2)"
   ]
  },
  {
   "cell_type": "code",
   "execution_count": null,
   "metadata": {},
   "outputs": [],
   "source": [
    "%matplotlib inline\n",
    "import matplotlib as mpl\n",
    "mpl.rcParams['figure.dpi'] = 120\n",
    "import matplotlib.pyplot as plt\n",
    "\n",
    "def square_loss(yhat,y):\n",
    "    return (yhat - y.reshape(yhat.shape)) ** 2\n",
    "\n",
    "def SGD(params,lr):\n",
    "    for param in params:\n",
    "        param[:] = param - lr * param.grad\n",
    "\n",
    "def test(params,X,y):\n",
    "    return square_loss(net(X,0,*params),y).mean().asscalar()\n",
    "\n",
    "def train(lambd):\n",
    "    epochs = 10\n",
    "    learning_rate = 0.002\n",
    "    params = get_params()\n",
    "    train_loss = []\n",
    "    test_loss = []\n",
    "    for e in range(epochs):\n",
    "        for data,label in data_iter(num_train):\n",
    "            with autograd.record():\n",
    "                output = net(data,lambd,*params)\n",
    "                loss = square_loss(output,label)\n",
    "            loss.backward()\n",
    "            SGD(params,learning_rate)\n",
    "        train_loss.append(test(params,X_train,y_train))\n",
    "        test_loss.append(test(params,X_test,y_test))\n",
    "    plt.plot(train_loss)\n",
    "    plt.plot(test_loss)\n",
    "    plt.legend(['train','test'])\n",
    "    plt.show()\n",
    "    return 'learned W[:10]:',params[0][:10],'learned b:',params[1]"
   ]
  },
  {
   "cell_type": "code",
   "execution_count": null,
   "metadata": {},
   "outputs": [],
   "source": [
    "train(0)"
   ]
  },
  {
   "cell_type": "code",
   "execution_count": null,
   "metadata": {},
   "outputs": [],
   "source": [
    "train(2)"
   ]
  },
  {
   "cell_type": "code",
   "execution_count": null,
   "metadata": {},
   "outputs": [],
   "source": []
  }
 ],
 "metadata": {
  "language_info": {
   "codemirror_mode": {
    "name": "ipython",
    "version": 3
   },
   "file_extension": ".py",
   "mimetype": "text/x-python",
   "name": "python",
   "nbconvert_exporter": "python",
   "pygments_lexer": "ipython3",
   "version": "3.8.1-final"
  },
  "orig_nbformat": 2,
  "kernelspec": {
   "name": "python38164bit909497d13ec443c9ad1939dfb1e78050",
   "display_name": "Python 3.8.1 64-bit"
  }
 },
 "nbformat": 4,
 "nbformat_minor": 2
}