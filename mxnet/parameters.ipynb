{
 "cells": [
  {
   "cell_type": "code",
   "execution_count": 1,
   "metadata": {},
   "outputs": [],
   "source": [
    "from mxnet.gluon import nn\n",
    "from mxnet import nd\n",
    "\n",
    "def get_net():\n",
    "    net = nn.Sequential()\n",
    "    with net.name_scope():\n",
    "        net.add(nn.Dense(4,activation=\"relu\"))\n",
    "        net.add(nn.Dense(2))\n",
    "    return net\n",
    "\n",
    "x = nd.random.uniform(shape=(3,5))"
   ]
  },
  {
   "cell_type": "markdown",
   "metadata": {},
   "source": [
    "不call initialize()"
   ]
  },
  {
   "cell_type": "code",
   "execution_count": 2,
   "metadata": {},
   "outputs": [
    {
     "output_type": "stream",
     "name": "stderr",
     "text": "Parameter 'sequential0_dense0_weight' has not been initialized. Note that you should initialize parameters and create Trainer with Block.collect_params() instead of Block.params because the later does not include Parameters of nested child Blocks"
    }
   ],
   "source": [
    "import sys\n",
    "try:\n",
    "    net = get_net()\n",
    "    net(x)\n",
    "except RuntimeError as err:\n",
    "    sys.stderr.write(str(err))"
   ]
  },
  {
   "cell_type": "code",
   "execution_count": 3,
   "metadata": {},
   "outputs": [
    {
     "output_type": "execute_result",
     "data": {
      "text/plain": "\n[[0.00212593 0.00365805]\n [0.00161272 0.00441845]\n [0.00204872 0.00352518]]\n<NDArray 3x2 @cpu(0)>"
     },
     "metadata": {},
     "execution_count": 3
    }
   ],
   "source": [
    "net.initialize()\n",
    "net(x)"
   ]
  },
  {
   "cell_type": "markdown",
   "metadata": {},
   "source": [
    "访问模型参数"
   ]
  },
  {
   "cell_type": "code",
   "execution_count": 4,
   "metadata": {},
   "outputs": [
    {
     "output_type": "stream",
     "name": "stdout",
     "text": "name: sequential0_dense0 \nweight: Parameter sequential0_dense0_weight (shape=(4, 5), dtype=float32) \nbias: Parameter sequential0_dense0_bias (shape=(4,), dtype=float32)\n"
    }
   ],
   "source": [
    "W = net[0].weight\n",
    "b = net[0].bias\n",
    "print('name:',net[0].name,'\\nweight:',W,'\\nbias:',b)"
   ]
  },
  {
   "cell_type": "code",
   "execution_count": 5,
   "metadata": {},
   "outputs": [
    {
     "output_type": "stream",
     "name": "stdout",
     "text": "weight \n[[-0.06206018  0.06491279 -0.03182812 -0.01631819 -0.00312688]\n [ 0.0408415   0.04370362  0.00404529 -0.0028032   0.00952624]\n [-0.01501013  0.05958354  0.04705103 -0.06005495 -0.02276454]\n [-0.0578019   0.02074406 -0.06716943 -0.01844618  0.04656678]]\n<NDArray 4x5 @cpu(0)>\nweight gradient \n[[0. 0. 0. 0. 0.]\n [0. 0. 0. 0. 0.]\n [0. 0. 0. 0. 0.]\n [0. 0. 0. 0. 0.]]\n<NDArray 4x5 @cpu(0)>\nbias \n[0. 0. 0. 0.]\n<NDArray 4 @cpu(0)>\nbias gradient \n[0. 0. 0. 0.]\n<NDArray 4 @cpu(0)>\n"
    }
   ],
   "source": [
    "print('weight',W.data())\n",
    "print('weight gradient',W.grad())\n",
    "print('bias',b.data())\n",
    "print('bias gradient',b.grad())"
   ]
  },
  {
   "cell_type": "code",
   "execution_count": 6,
   "metadata": {},
   "outputs": [
    {
     "output_type": "stream",
     "name": "stdout",
     "text": "sequential0_ (\n  Parameter sequential0_dense0_weight (shape=(4, 5), dtype=float32)\n  Parameter sequential0_dense0_bias (shape=(4,), dtype=float32)\n  Parameter sequential0_dense1_weight (shape=(2, 4), dtype=float32)\n  Parameter sequential0_dense1_bias (shape=(2,), dtype=float32)\n)\n\n[0. 0. 0. 0.]\n<NDArray 4 @cpu(0)>\n\n[[-0.06206018  0.06491279 -0.03182812 -0.01631819 -0.00312688]\n [ 0.0408415   0.04370362  0.00404529 -0.0028032   0.00952624]\n [-0.01501013  0.05958354  0.04705103 -0.06005495 -0.02276454]\n [-0.0578019   0.02074406 -0.06716943 -0.01844618  0.04656678]]\n<NDArray 4x5 @cpu(0)>\n"
    }
   ],
   "source": [
    "params = net.collect_params()\n",
    "print(params)\n",
    "print(params['sequential0_dense0_bias'].data())\n",
    "print(params.get('dense0_weight').data())"
   ]
  },
  {
   "cell_type": "code",
   "execution_count": 7,
   "metadata": {},
   "outputs": [
    {
     "output_type": "stream",
     "name": "stdout",
     "text": "\n[[ 0.02804598  0.00220872  0.00701151  0.02721515  0.00500832]\n [ 0.00112992  0.03227538 -0.01813176 -0.00385197 -0.01286032]\n [ 0.03360647 -0.02855298 -0.03083278 -0.02110904 -0.02623654]\n [-0.00293494  0.01282986 -0.01476416  0.04062728  0.01186533]]\n<NDArray 4x5 @cpu(0)> \n[0. 0. 0. 0.]\n<NDArray 4 @cpu(0)>\n"
    }
   ],
   "source": [
    "from mxnet import init\n",
    "params.initialize(init=init.Normal(sigma=0.02),force_reinit=True)\n",
    "print(net[0].weight.data(),net[0].bias.data())"
   ]
  },
  {
   "cell_type": "code",
   "execution_count": 8,
   "metadata": {},
   "outputs": [
    {
     "output_type": "stream",
     "name": "stdout",
     "text": "\n[[1. 1. 1. 1. 1.]\n [1. 1. 1. 1. 1.]\n [1. 1. 1. 1. 1.]\n [1. 1. 1. 1. 1.]]\n<NDArray 4x5 @cpu(0)> \n[0. 0. 0. 0.]\n<NDArray 4 @cpu(0)>\n"
    }
   ],
   "source": [
    "params.initialize(init=init.One(),force_reinit=True)\n",
    "print(net[0].weight.data(),net[0].bias.data())"
   ]
  },
  {
   "cell_type": "code",
   "execution_count": 17,
   "metadata": {},
   "outputs": [
    {
     "output_type": "stream",
     "name": "stdout",
     "text": "init weight (4, 5)\ninit weight (2, 4)\n\n[[9.205701  5.7472415 9.523239  9.34063   5.187797 ]\n [5.8124647 7.5415773 8.077798  5.8342376 5.6191   ]\n [8.895255  9.240042  9.324667  9.036594  7.0569835]\n [7.845504  5.699863  7.0359163 5.166112  5.3458347]]\n<NDArray 4x5 @cpu(0)> \n[0. 0. 0. 0.]\n<NDArray 4 @cpu(0)>\n"
    }
   ],
   "source": [
    "class MyInit(init.Initializer):\n",
    "    def __init__(self):\n",
    "        super(MyInit,self).__init__()\n",
    "        self._verbose = True\n",
    "    def _init_weight(self,_,arr):\n",
    "        print('init weight',arr.shape)\n",
    "        nd.random.uniform(low=5,high=10,out=arr)\n",
    "    def _init_bias(self,_,arr):\n",
    "        pritn('init bias',arr.shape)\n",
    "        arr[:] = 2\n",
    "\n",
    "params.initialize(init=MyInit(),force_reinit=True)\n",
    "print(net[0].weight.data(),net[0].bias.data())"
   ]
  },
  {
   "cell_type": "code",
   "execution_count": null,
   "metadata": {},
   "outputs": [],
   "source": [
    "net = get_net()\n",
    "print(net.collect_params())"
   ]
  },
  {
   "cell_type": "code",
   "execution_count": null,
   "metadata": {},
   "outputs": [],
   "source": []
  }
 ],
 "metadata": {
  "language_info": {
   "codemirror_mode": {
    "name": "ipython",
    "version": 3
   },
   "file_extension": ".py",
   "mimetype": "text/x-python",
   "name": "python",
   "nbconvert_exporter": "python",
   "pygments_lexer": "ipython3",
   "version": "3.7.7-final"
  },
  "orig_nbformat": 2,
  "kernelspec": {
   "name": "python37764bitmxnetconda3624c9184de641e387c1120171b4e41e",
   "display_name": "Python 3.7.7 64-bit ('mxnet': conda)"
  }
 },
 "nbformat": 4,
 "nbformat_minor": 2
}