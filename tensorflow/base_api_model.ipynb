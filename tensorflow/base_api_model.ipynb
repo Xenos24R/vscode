{
 "nbformat": 4,
 "nbformat_minor": 2,
 "metadata": {
  "language_info": {
   "name": "python",
   "codemirror_mode": {
    "name": "ipython",
    "version": 3
   },
   "version": "3.8.1-final"
  },
  "orig_nbformat": 2,
  "file_extension": ".py",
  "mimetype": "text/x-python",
  "name": "python",
  "npconvert_exporter": "python",
  "pygments_lexer": "ipython3",
  "version": 3,
  "kernelspec": {
   "name": "python38164bit909497d13ec443c9ad1939dfb1e78050",
   "display_name": "Python 3.8.1 64-bit"
  }
 },
 "cells": [
  {
   "cell_type": "code",
   "execution_count": null,
   "metadata": {},
   "outputs": [],
   "source": [
    "import matplotlib as mpl\n",
    "import matplotlib.pyplot as plt\n",
    "%matplotlib inline\n",
    "import numpy as np\n",
    "import sklearn\n",
    "import pandas as pd\n",
    "import os\n",
    "import sys\n",
    "import time\n",
    "import tensorflow as tf\n",
    "\n",
    "from tensorflow import keras"
   ]
  },
  {
   "cell_type": "code",
   "execution_count": null,
   "metadata": {},
   "outputs": [],
   "source": [
    "t = tf.constant([[1.,2.,3.],[4.,5.,6.]])\n",
    "\n",
    "#index\n",
    "print(t)\n",
    "print(t[:,1:])\n",
    "print(t[...,1])"
   ]
  },
  {
   "cell_type": "code",
   "execution_count": null,
   "metadata": {},
   "outputs": [],
   "source": [
    "# op\n",
    "print(t+10)\n",
    "print(tf.square(t))\n",
    "print(t @ tf.transpose(t))#转置"
   ]
  },
  {
   "cell_type": "code",
   "execution_count": null,
   "metadata": {},
   "outputs": [],
   "source": [
    "# numpy conversion\n",
    "print(t.numpy())\n",
    "print(np.square(t))\n",
    "np_t = np.array([[1.,2.,3.],[4.,5.,6.]])\n",
    "print(tf.constant(np_t))"
   ]
  },
  {
   "cell_type": "code",
   "execution_count": null,
   "metadata": {},
   "outputs": [],
   "source": [
    "# Scalars\n",
    "t = tf.constant(2.718)\n",
    "print(t.numpy())\n",
    "print(t.shape)"
   ]
  },
  {
   "cell_type": "code",
   "execution_count": null,
   "metadata": {},
   "outputs": [],
   "source": [
    "# strings\n",
    "t = tf.constant(\"cafe\")\n",
    "print(t)\n",
    "print(tf.strings.length(t))\n",
    "print(tf.strings.length(t,unit=\"UTF8_CHAR\"))\n",
    "print(tf.strings.unicode_decode(t,\"UTF8\"))"
   ]
  },
  {
   "cell_type": "code",
   "execution_count": null,
   "metadata": {},
   "outputs": [],
   "source": [
    "# string array\n",
    "t = tf.constant([\"cafe\",\"caffee\",\"咖啡\"])\n",
    "print(tf.strings.length(t,unit=\"UTF8_CHAR\"))\n",
    "r = tf.strings.unicode_decode(t,\"UTF8\")\n",
    "print(r)"
   ]
  },
  {
   "cell_type": "code",
   "execution_count": null,
   "metadata": {},
   "outputs": [],
   "source": [
    "# ragged tensor\n",
    "r = tf.ragged.constant([[11,12],[21,22,23],[],[41]])\n",
    "print(r)\n",
    "print(r[1])\n",
    "print(r[1:2])"
   ]
  },
  {
   "cell_type": "code",
   "execution_count": null,
   "metadata": {},
   "outputs": [],
   "source": [
    "# ops on ragged tensor\n",
    "r2 = tf.ragged.constant([[51,52],[],[71]])\n",
    "print(tf.concat([r,r2],axis=0))"
   ]
  },
  {
   "cell_type": "code",
   "execution_count": null,
   "metadata": {},
   "outputs": [],
   "source": [
    "r3 = tf.ragged.constant([[13,14],[15],[],[42,43]])\n",
    "print(tf.concat([r,r3],axis=1))"
   ]
  },
  {
   "cell_type": "code",
   "execution_count": null,
   "metadata": {},
   "outputs": [],
   "source": [
    "print(r.to_tensor())"
   ]
  },
  {
   "cell_type": "code",
   "execution_count": null,
   "metadata": {},
   "outputs": [],
   "source": [
    "# sparse tensor\n",
    "s = tf.SparseTensor(indices=[[0,1],[1,0],[2,3]],values=[1.,2.,3.],dense_shape=[3,4])#indices必须排好序\n",
    "print(s)\n",
    "print(tf.sparse.to_dense(s))"
   ]
  },
  {
   "cell_type": "code",
   "execution_count": null,
   "metadata": {},
   "outputs": [],
   "source": [
    "# ops on sparse tensor\n",
    "\n",
    "s2 = s*2.0\n",
    "print(s2)\n",
    "try:\n",
    "    s3 = s + 1#无法执行加法\n",
    "except TypeError as ex:\n",
    "    print(ex)\n",
    "s4 = tf.constant([[10.,20.],[30.,40.],[50.,60.],[70.,80.]])\n",
    "print(tf.sparse.sparse_dense_matmul(s,s4))"
   ]
  },
  {
   "cell_type": "code",
   "execution_count": null,
   "metadata": {},
   "outputs": [],
   "source": [
    "s5 = tf.SparseTensor([[0,2],[0,1],[2,3]],values=[1.,2.,3.],dense_shape=[3,4])\n",
    "print(s5)\n",
    "s6 = tf.sparse.reorder(s5)\n",
    "print(tf.sparse.to_dense(s6))"
   ]
  },
  {
   "cell_type": "code",
   "execution_count": null,
   "metadata": {},
   "outputs": [],
   "source": [
    "# variables\n",
    "v = tf.Variable([[1.,2.,3.],[4.,5.,6.]])\n",
    "print(v)\n",
    "print(v.value())\n",
    "print(v.numpy())"
   ]
  },
  {
   "cell_type": "code",
   "execution_count": null,
   "metadata": {},
   "outputs": [],
   "source": [
    "# assign value\n",
    "v.assign(2*v)\n",
    "print(v.numpy())\n",
    "v[0,1].assign(42)\n",
    "print(v.numpy())\n",
    "v[1].assign([7.,8.,9.])\n",
    "print(v.numpy())"
   ]
  },
  {
   "cell_type": "code",
   "execution_count": null,
   "metadata": {},
   "outputs": [],
   "source": [
    "try:\n",
    "    v[1] = [7.,8.,9.]\n",
    "except TypeError as ex:\n",
    "    print(ex)"
   ]
  },
  {
   "cell_type": "code",
   "execution_count": null,
   "metadata": {},
   "outputs": [],
   "source": []
  }
 ]
}