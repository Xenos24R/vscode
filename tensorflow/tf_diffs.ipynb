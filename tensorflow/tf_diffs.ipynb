{
 "nbformat": 4,
 "nbformat_minor": 2,
 "metadata": {
  "language_info": {
   "name": "python",
   "codemirror_mode": {
    "name": "ipython",
    "version": 3
   },
   "version": "3.8.1-final"
  },
  "orig_nbformat": 2,
  "file_extension": ".py",
  "mimetype": "text/x-python",
  "name": "python",
  "npconvert_exporter": "python",
  "pygments_lexer": "ipython3",
  "version": 3,
  "kernelspec": {
   "name": "python38164bit909497d13ec443c9ad1939dfb1e78050",
   "display_name": "Python 3.8.1 64-bit"
  }
 },
 "cells": [
  {
   "cell_type": "code",
   "execution_count": null,
   "metadata": {},
   "outputs": [],
   "source": [
    "import matplotlib as mpl\n",
    "import matplotlib.pyplot as plt\n",
    "%matplotlib inline\n",
    "import numpy as np\n",
    "import sklearn\n",
    "import pandas as pd\n",
    "import os\n",
    "import sys\n",
    "import time\n",
    "import tensorflow as tf\n",
    "\n",
    "from tensorflow import keras\n",
    "\n",
    "print(tf.__version__)"
   ]
  },
  {
   "cell_type": "code",
   "execution_count": null,
   "metadata": {},
   "outputs": [],
   "source": [
    "#一元函数近似求导\n",
    "def f(x):\n",
    "    return 3. * x ** 2 + 2. * x - 1\n",
    "def approximae_derivative(f,x,eps=1e-3):\n",
    "    return (f(x+eps)-f(x-eps))/(2.*eps)\n",
    "\n",
    "print(approximae_derivative(f,1.))"
   ]
  },
  {
   "cell_type": "code",
   "execution_count": null,
   "metadata": {},
   "outputs": [],
   "source": [
    "#\n",
    "def g(x1,x2):\n",
    "    return (x1 + 5) * (x2 ** 2)\n",
    "def approximae_gradient(g,x1,x2,eps=1e-3):\n",
    "    dg_x1 = approximae_derivative(lambda x:g(x,x2),x1,eps)\n",
    "    dg_x2 = approximae_derivative(lambda x:g(x1,x),x2,eps)\n",
    "    return dg_x1,dg_x2\n",
    "print(approximae_gradient(g,2.,3.))"
   ]
  },
  {
   "cell_type": "code",
   "execution_count": null,
   "metadata": {},
   "outputs": [],
   "source": []
  }
 ]
}